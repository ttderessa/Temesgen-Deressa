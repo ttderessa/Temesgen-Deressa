{
 "cells": [
  {
   "cell_type": "code",
   "execution_count": 1,
   "id": "7c84c681-f4d9-4e13-8339-bd26054203b2",
   "metadata": {},
   "outputs": [
    {
     "name": "stdout",
     "output_type": "stream",
     "text": [
      "Checking the existence of: C:\\Users\\ttder\\OneDrive\\Desktop\\Data\\Efficiency.dta \n",
      "C:\\Users\\ttder\\OneDrive\\Desktop\\Data\\Efficiency.dta  exists.\n",
      "       code      hhcode    wintert    springt    summert      fallt  \\\n",
      "0  300201.0  30020101.0  23.214899  26.831949  27.921021  24.865471   \n",
      "1  300201.0  30020102.0  23.214899  26.831949  27.921021  24.865471   \n",
      "2  300201.0  30020103.0  23.214899  26.831949  27.921021  24.865471   \n",
      "3  300201.0  30020104.0  23.214899  26.831949  27.921021  24.865471   \n",
      "4  300201.0  30020105.0  23.214899  26.831949  27.921021  24.865471   \n",
      "\n",
      "     winterp   springp     summerp      fallp  ...  ac  ad  ae  af  ag  ah  \\\n",
      "0  22.042219  48.90667  115.927803  56.873329  ...   0   0   0   0   0   0   \n",
      "1  22.042219  48.90667  115.927803  56.873329  ...   0   0   0   0   0   0   \n",
      "2  22.042219  48.90667  115.927803  56.873329  ...   0   0   0   0   0   0   \n",
      "3  22.042219  48.90667  115.927803  56.873329  ...   0   0   0   0   0   0   \n",
      "4  22.042219  48.90667  115.927803  56.873329  ...   0   0   0   0   0   0   \n",
      "\n",
      "   ai  al  ak  hhsize_01  \n",
      "0   0   0   0       10.0  \n",
      "1   0   0   0        8.0  \n",
      "2   0   0   0        6.0  \n",
      "3   0   0   0       14.0  \n",
      "4   0   0   0        6.0  \n",
      "\n",
      "[5 rows x 84 columns]\n"
     ]
    }
   ],
   "source": [
    "import pandas as pd\n",
    "from pathlib import Path\n",
    "\n",
    "file_path = r\"C:\\Users\\ttder\\OneDrive\\Desktop\\Data\\Efficiency.dta \"\n",
    "\n",
    "# Print the file path to ensure it is being interpreted correctly\n",
    "print(f\"Checking the existence of: {file_path}\")\n",
    "\n",
    "# Check if the file exists\n",
    "path = Path(file_path)\n",
    "if path.is_file():\n",
    "    print(f\"{file_path} exists.\")\n",
    "    # Load the Stata file into a pandas DataFrame\n",
    "    df = pd.read_stata(file_path)\n",
    "    # Display the first few rows of the DataFrame\n",
    "    print(df.head())\n",
    "else:\n",
    "    print(f\"{file_path} does not exist.\")\n",
    "\n",
    "# Select the specified columns\n",
    "\n",
    "df = [ ]"
   ]
  },
  {
   "cell_type": "code",
   "execution_count": null,
   "id": "c64e282b-4a60-44a4-8360-e621b0e0e811",
   "metadata": {},
   "outputs": [],
   "source": []
  }
 ],
 "metadata": {
  "kernelspec": {
   "display_name": "Python 3 (ipykernel)",
   "language": "python",
   "name": "python3"
  },
  "language_info": {
   "codemirror_mode": {
    "name": "ipython",
    "version": 3
   },
   "file_extension": ".py",
   "mimetype": "text/x-python",
   "name": "python",
   "nbconvert_exporter": "python",
   "pygments_lexer": "ipython3",
   "version": "3.12.7"
  }
 },
 "nbformat": 4,
 "nbformat_minor": 5
}
